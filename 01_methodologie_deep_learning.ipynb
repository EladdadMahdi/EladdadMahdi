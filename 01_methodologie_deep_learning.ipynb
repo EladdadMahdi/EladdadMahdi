{
  "nbformat": 4,
  "nbformat_minor": 0,
  "metadata": {
    "accelerator": "GPU",
    "colab": {
      "provenance": [],
      "include_colab_link": true
    },
    "kernelspec": {
      "display_name": "Python 3",
      "name": "python3"
    }
  },
  "cells": [
    {
      "cell_type": "markdown",
      "metadata": {
        "id": "view-in-github",
        "colab_type": "text"
      },
      "source": [
        "<a href=\"https://colab.research.google.com/github/EladdadMahdi/EladdadMahdi/blob/main/01_methodologie_deep_learning.ipynb\" target=\"_parent\"><img src=\"https://colab.research.google.com/assets/colab-badge.svg\" alt=\"Open In Colab\"/></a>"
      ]
    },
    {
      "cell_type": "markdown",
      "metadata": {
        "id": "HskP7Ca1ZYMV"
      },
      "source": [
        "<center><img src=\"https://datascientest.fr/train/assets/logo_datascientest.png\" style=\"height:150px\">\n",
        "\n",
        "<hr style=\"border-width:2px;border-color:#75DFC1\">\n",
        "<h1 style = \"text-align:center\" >Méthodologie en Deep Learning </h1>\n",
        "<h2 style = \"text-align:center\" > Exercice 1 - Détection simple d'un visage </h2></center>\n",
        "<hr style=\"border-width:2px;border-color:#75DFC1\">\n",
        "\n",
        "> Ce notebook est destiné à pratiquer les notions évoquées dans le premier exercice du module sur une machine plus adaptée.\n",
        ">\n",
        "> Si c'est la première fois que vous utilisez colab, n'hésitez pas à jeter un coup d'oeil sur ce [notebook](https://colab.research.google.com/drive/1jXEKOk3mRYBqFWoVwJ0ZpsRJCWj46Yxt?usp=sharing).\n",
        "\n",
        "\n",
        "* Exécuter la cellule suivante pour télécharger le jeu de données ainsi que le décompresser."
      ]
    },
    {
      "cell_type": "code",
      "metadata": {
        "id": "lv66c7RubVw9",
        "colab": {
          "base_uri": "https://localhost:8080/"
        },
        "outputId": "c0cb43a5-9ed7-4859-f67c-18eae708e768"
      },
      "source": [
        "!wget https://assets-datascientest.s3-eu-west-1.amazonaws.com/datasets/YouTube_Faces_light.zip\n",
        "!unzip -q YouTube_Faces_light.zip\n",
        "\n",
        "# Pour le jeu de données originel\n",
        "# !wget https://assets-datascientest.s3-eu-west-1.amazonaws.com/datasets/YouTube_Faces_heavy.zip\n",
        "# !unzip -q YouTube_Faces_heavy.zip"
      ],
      "execution_count": null,
      "outputs": [
        {
          "output_type": "stream",
          "name": "stdout",
          "text": [
            "--2021-12-07 14:23:26--  https://assets-datascientest.s3.eu-west-1.amazonaws.com/datasets/words_light.zip\n",
            "Resolving assets-datascientest.s3.eu-west-1.amazonaws.com (assets-datascientest.s3.eu-west-1.amazonaws.com)... 52.218.28.8\n",
            "Connecting to assets-datascientest.s3.eu-west-1.amazonaws.com (assets-datascientest.s3.eu-west-1.amazonaws.com)|52.218.28.8|:443... connected.\n",
            "HTTP request sent, awaiting response... 200 OK\n",
            "Length: 77465542 (74M) [application/zip]\n",
            "Saving to: ‘words_light.zip’\n",
            "\n",
            "words_light.zip     100%[===================>]  73.88M  74.9MB/s    in 1.0s    \n",
            "\n",
            "2021-12-07 14:23:27 (74.9 MB/s) - ‘words_light.zip’ saved [77465542/77465542]\n",
            "\n"
          ]
        }
      ]
    },
    {
      "cell_type": "markdown",
      "metadata": {
        "id": "J06amtxroidv"
      },
      "source": [
        "* Exécuter la cellule suivante pour vérifier que le GPU soit bien activé."
      ]
    },
    {
      "cell_type": "code",
      "metadata": {
        "id": "1IEtZFGtoj80"
      },
      "source": [
        "import tensorflow as tf\n",
        "if tf.test.gpu_device_name(): .\n",
        "    print('Default GPU Device:{}'.format(tf.test.gpu_device_name()))\n",
        "else:\n",
        "    print(\"Please change your hardware accelerator\")"
      ],
      "execution_count": null,
      "outputs": []
    },
    {
      "cell_type": "markdown",
      "metadata": {
        "id": "heJCOLh5eOjv"
      },
      "source": [
        "> Le fichier *face_images.csv* ainsi que le dossier *images* maintenant présent dans le dossier racine du notebook.\n",
        "\n",
        "* Charger le jeu de données **<i>'face_images.csv'</i>** dans le dataframe **`df`**.\n",
        "\n",
        "\n",
        "* Faire un bref audit des données."
      ]
    },
    {
      "cell_type": "code",
      "source": [
        "from google.colab import drive\n",
        "drive.mount('/content/drive')"
      ],
      "metadata": {
        "id": "Dk626NGU_Wh3"
      },
      "execution_count": null,
      "outputs": []
    },
    {
      "cell_type": "code",
      "metadata": {
        "id": "74maBzY-bVjW"
      },
      "source": [
        "import pandas as pd\n",
        "df = pd.read_csv('face_images.csv')\n",
        "df.head()"
      ],
      "execution_count": null,
      "outputs": []
    },
    {
      "cell_type": "markdown",
      "metadata": {
        "id": "MxepUBeIkXSf"
      },
      "source": [
        "* Définir une fonction `load_image` avec comme argument **`filepath`** et **`resize`** qui charge, redimensionne et qui retourne l'image. **Utiliser uniquement des fonctions de `tensorflow`**.\n",
        "\n",
        "\n",
        "* Charger et afficher la première image de **`df`**.\n",
        "\n",
        "\n",
        "* Afficher ses dimensions."
      ]
    },
    {
      "cell_type": "code",
      "metadata": {
        "id": "aygTyD87d_Lc"
      },
      "source": [
        "import matplotlib.pyplot as plt\n",
        "import tensorflow as tf\n",
        "folder_images = 'images/'\n",
        "\n",
        "def load_image(filepath, resize=None):\n",
        "    im = tf.io.read_file(folder_images + filepath)\n",
        "    im = tf.image.decode_png(im, channels=3)\n",
        "    if resize:\n",
        "        return tf.image.resize(im, resize)\n",
        "    else :\n",
        "        return im\n",
        "\n",
        "\n",
        "im = load_image(df.filename[0])\n",
        "plt.imshow(im);"
      ],
      "execution_count": null,
      "outputs": []
    },
    {
      "cell_type": "markdown",
      "metadata": {
        "id": "qHLZ13uHkkdB"
      },
      "source": [
        "* Créer les colonnes suivantes à **`df`** : **<i>xmoy</i>**, **<i>ymoy</i>**, **<i>w</i>** et **<i>h</i>**.\n",
        "\n",
        "\n",
        "* Afficher les premières lignes de **`df`**."
      ]
    },
    {
      "cell_type": "code",
      "metadata": {
        "id": "n7jJUTFdFQSZ"
      },
      "source": [
        "# Insérer votre code ici\n",
        "\n"
      ],
      "execution_count": null,
      "outputs": []
    },
    {
      "cell_type": "code",
      "metadata": {
        "id": "-nNOq-0ikzZt",
        "cellView": "form"
      },
      "source": [
        "#@title Solution\n",
        "df['xmoy'] = (df.xmax + df.xmin)/2\n",
        "df['ymoy'] = (df.ymax + df.ymin)/2\n",
        "df['w'] = (df.xmax - df.xmin)\n",
        "df['h'] = (df.ymax - df.ymin)\n",
        "df.head()"
      ],
      "execution_count": null,
      "outputs": []
    },
    {
      "cell_type": "markdown",
      "metadata": {
        "id": "w-E2qbaPkmGn"
      },
      "source": [
        "* Exécuter la cellule suivante pour afficher la bounding box de la première image."
      ]
    },
    {
      "cell_type": "code",
      "metadata": {
        "id": "vO8uJt7bk9OI"
      },
      "source": [
        "import numpy as np\n",
        "\n",
        "def show_bounding_box(im, bbox, normalised=True, color='r'):\n",
        "    # Signification de bbox\n",
        "    x, y, w, h = bbox\n",
        "    # Convertir les cordonées (x,y,w,h) en (x1,x2,y1,y2)\n",
        "    x1=x-w/2\n",
        "    x2=x+w/2\n",
        "    y1=y-h/2\n",
        "    y2=y+h/2\n",
        "\n",
        "    # Redimentionner en cas de normalisation\n",
        "    if normalised:\n",
        "        x1=x1*im.shape[1]\n",
        "        x2=x2*im.shape[1]\n",
        "        y1=y1*im.shape[0]\n",
        "        y2=y2*im.shape[0]\n",
        "\n",
        "    # Afficher l'image\n",
        "    plt.imshow(im)\n",
        "\n",
        "    # Afficher la bounding box\n",
        "    plt.plot([x1,x2,x2,x1,x1],[y1,y1,y2,y2,y1],\"r\")\n",
        "\n",
        "idx = 1\n",
        "# Array de l'image\n",
        "im = load_image(df.filename[idx])\n",
        "# Coordonnées de la bounding box\n",
        "bbox = df[['xmoy', 'ymoy', 'w', 'h']].values[idx]\n",
        "# Afficher l'image ainsi que la bounding box\n",
        "show_bounding_box(im, bbox)"
      ],
      "execution_count": null,
      "outputs": []
    },
    {
      "cell_type": "markdown",
      "metadata": {
        "id": "A5-GH4avkmft"
      },
      "source": [
        "* À l'aide des fonctions définies précédemment, charger une image et afficher sa bounding box."
      ]
    },
    {
      "cell_type": "code",
      "metadata": {
        "id": "8L22DUxglHVz"
      },
      "source": [
        "# Array de l'image\n",
        "im = load_image(df.filename[8])\n",
        "# Coordonnées de la bounding box\n",
        "bbox = df[['xmoy', 'ymoy', 'w', 'h']].values[8]\n",
        "# Afficher l'image ainsi que la bounding box\n",
        "show_bounding_box(im, bbox, normalised=True)"
      ],
      "execution_count": null,
      "outputs": []
    },
    {
      "cell_type": "markdown",
      "metadata": {
        "id": "_BieWh1Jkn8h"
      },
      "source": [
        "* Exécuter la cellule suivante pour afficher aléatoirement des images avec leur bounding box."
      ]
    },
    {
      "cell_type": "code",
      "metadata": {
        "id": "LzV4RkT3lH0l"
      },
      "source": [
        "import matplotlib.pyplot as plt\n",
        "plt.figure(figsize=(12,5))\n",
        "for j, i in enumerate(np.random.randint(0, len(df), size=[8])):\n",
        "    plt.subplot(2,4,j+1)\n",
        "    plt.axis('off')\n",
        "    im = load_image(df.filename[i])\n",
        "    bbox = df[['xmoy', 'ymoy', 'w', 'h']].values[i]\n",
        "    show_bounding_box(im, bbox, normalised=True)"
      ],
      "execution_count": null,
      "outputs": []
    },
    {
      "cell_type": "markdown",
      "metadata": {
        "id": "v_jpQKUqkv1k"
      },
      "source": [
        "### Distribution des variables cibles.\n",
        "\n",
        "* Afficher la distribution de `xmoy` et `ymoy`.\n",
        "\n",
        "\n",
        "* Où se trouve généralement la bounding box dans l'image ?"
      ]
    },
    {
      "cell_type": "code",
      "metadata": {
        "id": "LS94evkflIfv"
      },
      "source": [
        "import seaborn as sns\n",
        "import matplotlib.pyplot as plt\n",
        "sns.displot(df.xmoy)\n",
        "plt.show()\n",
        "sns.displot(df.ymoy)\n",
        "plt.show()\n",
        "## La bounding box se trouve généralement au centre de l'image."
      ],
      "execution_count": null,
      "outputs": []
    },
    {
      "cell_type": "markdown",
      "metadata": {
        "id": "2PU6WK48kv1k"
      },
      "source": [
        "* Afficher la distribution de `w` et `h`.\n",
        "\n",
        "\n",
        "* Est-ce que les petits objets sont bien représentés ?"
      ]
    },
    {
      "cell_type": "code",
      "metadata": {
        "id": "OyqZeVrzlXrn"
      },
      "source": [
        "sns.displot(df.w)\n",
        "plt.show()\n",
        "sns.displot(df.h)\n",
        "plt.show()\n",
        "## Les objets ont généralement la même taille et les petits objets ne sont pas beaucoup réprésentés."
      ],
      "execution_count": null,
      "outputs": []
    },
    {
      "cell_type": "markdown",
      "metadata": {
        "id": "12X8yuAxkv1k"
      },
      "source": [
        "### Charger le jeu de données\n",
        "\n",
        "* Séparer le jeu de données **`df.filepath`** et les variables cibles en un ensemble d'entraînement **`X_train_path`**, **`y_train`**, et en un ensemble de test **`X_test_path`**, **`y_test`**. Nous choisirons un rapport de 80% pour les données d'entraînements et une graine aléatoire 1234.\n",
        "\n",
        "\n",
        "* Charger les images de **`X_test_path`** redimentionnées à [256,256,3]  en mémoire dans la variable **`X_test`**."
      ]
    },
    {
      "cell_type": "code",
      "metadata": {
        "id": "42VrNIiQlYjI"
      },
      "source": [
        "from sklearn.model_selection import train_test_split\n",
        "from tqdm import tqdm\n",
        "\n",
        "X_train_path, X_test_path, y_train, y_test = train_test_split(df.filename, df[['xmoy', 'ymoy', 'w', 'h']], train_size=0.8, random_state=1234)\n",
        "\n",
        "X_test = []\n",
        "for p in tqdm(X_test_path):\n",
        "    im = load_image(p, (256,256)).numpy().astype(np.uint8)\n",
        "    X_test.append(im)\n",
        "\n",
        "X_test = np.array(X_test)"
      ],
      "execution_count": null,
      "outputs": []
    },
    {
      "cell_type": "markdown",
      "metadata": {
        "id": "Tmiy2Bc9kvXs"
      },
      "source": [
        "* Définir un dataset **`dataset_train`** de **`(X_train_path, y_train)`** à l'aide de la fonction `from_tensor_slices`.\n",
        "\n",
        "\n",
        "* À l'aide de la méthode `map`, appliquer la fonction `load_image` à chaque valeur de **X_train_path**. Pour que le chargement s'éffectue en multi-thread, préciser l'argument `num_parallel_calls` égale à -1.\n",
        "\n",
        "\n",
        "* Regrouper les observations sous forme de batch de taille 32."
      ]
    },
    {
      "cell_type": "code",
      "metadata": {
        "id": "ADSJnHA4lY8C"
      },
      "source": [
        "import tensorflow as tf\n",
        "\n",
        "@tf.function\n",
        "def load_image(filepath, resize=(256,256)):\n",
        "    im = tf.io.read_file(folder_images+filepath)\n",
        "    im = tf.image.decode_png(im, channels=3)\n",
        "    return tf.image.resize(im, resize)\n",
        "\n",
        "dataset_train = tf.data.Dataset.from_tensor_slices((X_train_path, y_train))\n",
        "\n",
        "dataset_train = dataset_train.map(lambda x, y : [load_image(x), y], num_parallel_calls=-1).batch(32)"
      ],
      "execution_count": null,
      "outputs": []
    },
    {
      "cell_type": "markdown",
      "metadata": {
        "id": "WAUUR6MskvXs"
      },
      "source": [
        "* Exécuter la cellule suivante pour comparer le temps de chargement entre une méthode single-threading et multi-threading."
      ]
    },
    {
      "cell_type": "code",
      "metadata": {
        "id": "pCnxSIWzlZaQ"
      },
      "source": [
        "import time\n",
        "import cv2\n",
        "t0 = time.time()\n",
        "for p in X_test_path.values[:32]:\n",
        "    load_image(p)\n",
        "\n",
        "print('Time to load 32 image in a single thread method :', time.time()-t0, 's')\n",
        "\n",
        "iterator= iter(dataset_train.take(1))\n",
        "t0 = time.time()\n",
        "next(iterator)\n",
        "print('Time for a multi-threading method :', time.time()-t0, 's')"
      ],
      "execution_count": null,
      "outputs": []
    },
    {
      "cell_type": "markdown",
      "metadata": {
        "id": "z9okEYv6kvXs"
      },
      "source": [
        "### Définition du modèle de détection d'objet\n",
        "\n",
        "* Charger le modèle `EfficientNetB0` de **`tensorflow.keras.applications`**.\n",
        "\n",
        "\n",
        "* Freezer les poids du modèle.\n",
        "\n",
        "\n",
        "* Afficher le résumé du modèle."
      ]
    },
    {
      "cell_type": "code",
      "metadata": {
        "id": "tyJ5LBVflbxB"
      },
      "source": [
        "from tensorflow.keras.applications import EfficientNetB0\n",
        "\n",
        "# Load the model efficientNet\n",
        "efficientNet = EfficientNetB0(include_top=False, input_shape=(256,256,3))\n",
        "\n",
        "# Freeze the blackbone\n",
        "for layer in efficientNet.layers:\n",
        "    layer.trainable = False"
      ],
      "execution_count": null,
      "outputs": []
    },
    {
      "cell_type": "markdown",
      "metadata": {
        "id": "KrRvm7j1ldx0"
      },
      "source": [
        "### Partie régression\n",
        "\n",
        "* Ajouter le modèle à un objet `Sequential` qui portera le nom de **`model`**.\n",
        "\n",
        "\n",
        "* Ajouter à ce modèle une couche `GlobalAveragePooling2D`.\n",
        "\n",
        "\n",
        "* Puis, ajouter quelques couches `Dense` et `Dropout`.\n",
        "\n",
        "\n",
        "* Finir par une couche `Dense` avec 4 neurones et une fonction activation `'linear'`."
      ]
    },
    {
      "cell_type": "code",
      "metadata": {
        "id": "1_VnBzCildx0"
      },
      "source": [
        "from tensorflow.keras.layers import Dense, GlobalAveragePooling2D, Dropout, Conv2D, MaxPooling2D, BatchNormalization, LeakyReLU, Flatten\n",
        "from tensorflow.keras.models import Model, Sequential, load_model\n",
        "\n",
        "model = Sequential()\n",
        "model.add(efficientNet)\n",
        "model.add(GlobalAveragePooling2D())\n",
        "model.add(Dense(1024, activation='relu'))\n",
        "model.add(Dropout(0.2))\n",
        "model.add(Dense(512, activation='relu'))\n",
        "model.add(Dropout(0.2))\n",
        "model.add(Dense(4, activation='linear'))\n",
        "model.summary()"
      ],
      "execution_count": null,
      "outputs": []
    },
    {
      "cell_type": "markdown",
      "metadata": {
        "id": "Ud5aORwjldx0"
      },
      "source": [
        "### Définition de la fonction de perte\n",
        "\n",
        "* Définir une fonction de perte `loss_function`  de votre choix avec comme argument **`y_true`** et **`y_pred`**. Attention à bien n'utiliser que des fonctions venant du package `tensorflow`.\n",
        "\n",
        "\n",
        "* Compiler le modèle avec votre fonction de perte `loss_function` et avec un optimizer 'adam'."
      ]
    },
    {
      "cell_type": "code",
      "metadata": {
        "id": "btDqayo7ldx1"
      },
      "source": [
        "from tensorflow.keras.optimizers import SGD, Adam, RMSprop\n",
        "\n",
        "lambda_regression=10\n",
        "\n",
        "def loss_function(y_true, y_pred):\n",
        "    return lambda_regression*tf.reduce_mean(tf.square(y_true-y_pred), axis=-1)\n",
        "\n",
        "# def loss_function(y_true, y_pred):\n",
        "#     return lambda_coord*tf.reduce_mean(tf.square(y_true[...,:2]-y_pred[...,:2]), axis=-1) + lambda_largeur*tf.reduce_mean(tf.square(y_true[...,2:4]-y_pred[...,2:4]), axis=-1)\n",
        "\n",
        "\n",
        "model.compile(loss=loss_function, optimizer=Adam(1e-3))"
      ],
      "execution_count": null,
      "outputs": []
    },
    {
      "cell_type": "markdown",
      "metadata": {
        "id": "zWHhI0BOldx1"
      },
      "source": [
        "### Entraînement du modèle\n",
        "\n",
        "\n",
        "* Entraîner le modèle à l'aide la méthode `fit_generator` sur 20 epochs."
      ]
    },
    {
      "cell_type": "code",
      "metadata": {
        "colab": {
          "background_save": true
        },
        "id": "5tlruVT1ldx1"
      },
      "source": [
        "model.fit(dataset_train, epochs=20)"
      ],
      "execution_count": null,
      "outputs": []
    },
    {
      "cell_type": "markdown",
      "metadata": {
        "id": "hWRKo7QzmOqH"
      },
      "source": [
        "* Tester le modèle sur images de X_test en affichant la bounding box associée."
      ]
    },
    {
      "cell_type": "code",
      "metadata": {
        "colab": {
          "background_save": true
        },
        "id": "DH3VsuasmO69"
      },
      "source": [
        "import time\n",
        "def show_img(img, model):\n",
        "    plt.imshow(img)\n",
        "    t0=time.time()\n",
        "    x, y, w, h = model.predict(tf.expand_dims(img,0))[0]\n",
        "    print(x, y, w, h)\n",
        "    print(\"Execution time :\",time.time()-t0,\"secondes\")\n",
        "    show_bounding_box(img/255, [x,y,w,h])\n",
        "    plt.show()\n",
        "\n",
        "## Exemple :\n",
        "show_img(X_test[3], model)"
      ],
      "execution_count": null,
      "outputs": []
    },
    {
      "cell_type": "markdown",
      "metadata": {
        "id": "rTKMCMO_mPJk"
      },
      "source": [
        "### Tester le modèle sur votre caméra\n",
        "\n",
        "* Exécuter les deux prochaines cellules pour activer la webcam sur le notebook colab."
      ]
    },
    {
      "cell_type": "code",
      "metadata": {
        "colab": {
          "background_save": true
        },
        "id": "qwTihDjVmPye"
      },
      "source": [
        "from IPython.display import display, Javascript, Image\n",
        "from google.colab.output import eval_js\n",
        "from base64 import b64decode, b64encode\n",
        "import cv2\n",
        "import numpy as np\n",
        "import PIL\n",
        "import io\n",
        "import html\n",
        "import time\n",
        "\n",
        "def js_to_image(js_reply):\n",
        "  image_bytes = b64decode(js_reply.split(',')[1])\n",
        "  jpg_as_np = np.frombuffer(image_bytes, dtype=np.uint8)\n",
        "  img = cv2.imdecode(jpg_as_np, flags=1)\n",
        "  return img\n",
        "\n",
        "def bbox_to_bytes(bbox_array):\n",
        "  bbox_PIL = PIL.Image.fromarray(bbox_array, 'RGBA')\n",
        "  iobuf = io.BytesIO()\n",
        "  bbox_PIL.save(iobuf, format='png')\n",
        "  bbox_bytes = 'data:image/png;base64,{}'.format((str(b64encode(iobuf.getvalue()), 'utf-8')))\n",
        "  return bbox_bytes\n",
        "\n",
        "def video_stream():\n",
        "  js = Javascript('''\n",
        "    var video;\n",
        "    var div = null;\n",
        "    var stream;\n",
        "    var captureCanvas;\n",
        "    var imgElement;\n",
        "    var labelElement;\n",
        "\n",
        "    var pendingResolve = null;\n",
        "    var shutdown = false;\n",
        "\n",
        "    function removeDom() {\n",
        "       stream.getVideoTracks()[0].stop();\n",
        "       video.remove();\n",
        "       div.remove();\n",
        "       video = null;\n",
        "       div = null;\n",
        "       stream = null;\n",
        "       imgElement = null;\n",
        "       captureCanvas = null;\n",
        "       labelElement = null;\n",
        "    }\n",
        "\n",
        "    function onAnimationFrame() {\n",
        "      if (!shutdown) {\n",
        "        window.requestAnimationFrame(onAnimationFrame);\n",
        "      }\n",
        "      if (pendingResolve) {\n",
        "        var result = \"\";\n",
        "        if (!shutdown) {\n",
        "          captureCanvas.getContext('2d').drawImage(video, 0, 0, 640, 480);\n",
        "          result = captureCanvas.toDataURL('image/jpeg', 0.8)\n",
        "        }\n",
        "        var lp = pendingResolve;\n",
        "        pendingResolve = null;\n",
        "        lp(result);\n",
        "      }\n",
        "    }\n",
        "\n",
        "    async function createDom() {\n",
        "      if (div !== null) {\n",
        "        return stream;\n",
        "      }\n",
        "\n",
        "      div = document.createElement('div');\n",
        "      div.style.border = '2px solid black';\n",
        "      div.style.padding = '3px';\n",
        "      div.style.width = '100%';\n",
        "      div.style.maxWidth = '600px';\n",
        "      document.body.appendChild(div);\n",
        "\n",
        "      const modelOut = document.createElement('div');\n",
        "      modelOut.innerHTML = \"<span>Status:</span>\";\n",
        "      labelElement = document.createElement('span');\n",
        "      labelElement.innerText = 'No data';\n",
        "      labelElement.style.fontWeight = 'bold';\n",
        "      modelOut.appendChild(labelElement);\n",
        "      div.appendChild(modelOut);\n",
        "\n",
        "      video = document.createElement('video');\n",
        "      video.style.display = 'block';\n",
        "      video.width = div.clientWidth - 6;\n",
        "      video.setAttribute('playsinline', '');\n",
        "      video.onclick = () => { shutdown = true; };\n",
        "      stream = await navigator.mediaDevices.getUserMedia(\n",
        "          {video: { facingMode: \"environment\"}});\n",
        "      div.appendChild(video);\n",
        "\n",
        "      imgElement = document.createElement('img');\n",
        "      imgElement.style.position = 'absolute';\n",
        "      imgElement.style.zIndex = 1;\n",
        "      imgElement.onclick = () => { shutdown = true; };\n",
        "      div.appendChild(imgElement);\n",
        "\n",
        "      const instruction = document.createElement('div');\n",
        "      instruction.innerHTML =\n",
        "          '<span style=\"color: red; font-weight: bold;\">' +\n",
        "          'When finished, click here or on the video to stop this demo</span>';\n",
        "      div.appendChild(instruction);\n",
        "      instruction.onclick = () => { shutdown = true; };\n",
        "\n",
        "      video.srcObject = stream;\n",
        "      await video.play();\n",
        "\n",
        "      captureCanvas = document.createElement('canvas');\n",
        "      captureCanvas.width = 640; //video.videoWidth;\n",
        "      captureCanvas.height = 480; //video.videoHeight;\n",
        "      window.requestAnimationFrame(onAnimationFrame);\n",
        "\n",
        "      return stream;\n",
        "    }\n",
        "    async function stream_frame(label, imgData) {\n",
        "      if (shutdown) {\n",
        "        removeDom();\n",
        "        shutdown = false;\n",
        "        return '';\n",
        "      }\n",
        "\n",
        "      var preCreate = Date.now();\n",
        "      stream = await createDom();\n",
        "\n",
        "      var preShow = Date.now();\n",
        "      if (label != \"\") {\n",
        "        labelElement.innerHTML = label;\n",
        "      }\n",
        "\n",
        "      if (imgData != \"\") {\n",
        "        var videoRect = video.getClientRects()[0];\n",
        "        imgElement.style.top = videoRect.top + \"px\";\n",
        "        imgElement.style.left = videoRect.left + \"px\";\n",
        "        imgElement.style.width = videoRect.width + \"px\";\n",
        "        imgElement.style.height = videoRect.height + \"px\";\n",
        "        imgElement.src = imgData;\n",
        "      }\n",
        "\n",
        "      var preCapture = Date.now();\n",
        "      var result = await new Promise(function(resolve, reject) {\n",
        "        pendingResolve = resolve;\n",
        "      });\n",
        "      shutdown = false;\n",
        "\n",
        "      return {'create': preShow - preCreate,\n",
        "              'show': preCapture - preShow,\n",
        "              'capture': Date.now() - preCapture,\n",
        "              'img': result};\n",
        "    }\n",
        "    ''')\n",
        "\n",
        "  display(js)\n",
        "\n",
        "def video_frame(label, bbox):\n",
        "  data = eval_js('stream_frame(\"{}\", \"{}\")'.format(label, bbox))\n",
        "  return data"
      ],
      "execution_count": null,
      "outputs": []
    },
    {
      "cell_type": "code",
      "metadata": {
        "id": "irfWQYk4pF_A"
      },
      "source": [
        "video_stream()\n",
        "label_html = 'Capturing...'\n",
        "bbox = ''\n",
        "count = 0\n",
        "labels_dict = {0 : 'No mask', 1 : 'Mask'}\n",
        "\n",
        "while True:\n",
        "    js_reply = video_frame(label_html, bbox)\n",
        "    if not js_reply:\n",
        "        break\n",
        "    img = js_to_image(js_reply[\"img\"])\n",
        "    img_resized = cv2.resize(img, (256, 256))\n",
        "    bbox_array = np.zeros([img.shape[0], img.shape[1], 4], dtype=np.uint8)\n",
        "    x_m, y_m, w, h = model(tf.expand_dims(img_resized[:,:,[2,1,0]], 0))[0]\n",
        "    x_m = (x_m * img.shape[1]).numpy()\n",
        "    y_m = (y_m * img.shape[0]).numpy()\n",
        "    w = (tf.abs(w) * img.shape[1]).numpy()\n",
        "    h = (h * img.shape[0]).numpy()\n",
        "\n",
        "    # Display\n",
        "    bbox_array = cv2.rectangle(bbox_array, (int(x_m-w/2), int(y_m-h/2)), (int(x_m+w/2), int(y_m+h/2)), (255, 0, 0), 2)\n",
        "    bbox_array[:,:,3] = (bbox_array.max(axis = 2) > 0 ).astype(int) * 255\n",
        "\n",
        "    bbox_bytes = bbox_to_bytes(bbox_array)\n",
        "    bbox = bbox_bytes"
      ],
      "execution_count": null,
      "outputs": []
    }
  ]
}